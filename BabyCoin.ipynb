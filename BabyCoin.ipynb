{
 "cells": [
  {
   "cell_type": "markdown",
   "metadata": {},
   "source": [
    "# Job Report System"
   ]
  },
  {
   "cell_type": "code",
   "execution_count": 1,
   "metadata": {},
   "outputs": [],
   "source": [
    "# Initial imports\n",
    "import sys\n",
    "\n",
    "# this is importing from the crypto.py file we created in the same folder\n",
    "from crypto import convertDataToJSON, pinJSONtoIPFS, initContract, initContract2, w3\n",
    "\n",
    "# if not installed, need to run:\n",
    "# !pip install prettyprinter \n",
    "from pprint import pprint"
   ]
  },
  {
   "cell_type": "markdown",
   "metadata": {},
   "source": [
    "### Creating an instance of the contract that we want to interact with"
   ]
  },
  {
   "cell_type": "code",
   "execution_count": 2,
   "metadata": {},
   "outputs": [],
   "source": [
    "transfer = initContract()"
   ]
  },
  {
   "cell_type": "code",
   "execution_count": 3,
   "metadata": {},
   "outputs": [],
   "source": [
    "joblistings = initContract2()"
   ]
  },
  {
   "cell_type": "code",
   "execution_count": 4,
   "metadata": {},
   "outputs": [
    {
     "data": {
      "text/plain": [
       "'0xdDdB31bFdB863a189356028a62E6985019Dea124'"
      ]
     },
     "execution_count": 4,
     "metadata": {},
     "output_type": "execute_result"
    }
   ],
   "source": [
    "w3.eth.accounts[0]"
   ]
  },
  {
   "cell_type": "markdown",
   "metadata": {},
   "source": [
    "### Defining the functions we want to use"
   ]
  },
  {
   "cell_type": "code",
   "execution_count": 5,
   "metadata": {},
   "outputs": [],
   "source": [
    "def createJobReport():\n",
    "    owner = input(\"Wallet Address: \")\n",
    "    parent_name = input(\"Parents are?: \")\n",
    "    street_address = input(\"Street Address: \")\n",
    "    initial_value = int(input(\"Fee offered: \"))\n",
    "    token_uri = input(\"Job Description: \")\n",
    "\n",
    "    json_data = convertDataToJSON(owner, parent_name, street_address, initial_value, token_uri)\n",
    "    report_uri = pinJSONtoIPFS(json_data)\n",
    "\n",
    "    return owner, parent_name, street_address, initial_value, token_uri"
   ]
  },
  {
   "cell_type": "code",
   "execution_count": 6,
   "metadata": {},
   "outputs": [],
   "source": [
    "def registerJob(owner, parent_name, street_address, initial_value, token_uri):\n",
    "    tx_hash = joblistings.functions.registerJob(owner, parent_name, street_address, initial_value, token_uri).transact(\n",
    "    {\"from\": w3.eth.accounts[0]}\n",
    "    )\n",
    "    receipt = w3.eth.waitForTransactionReceipt(tx_hash)\n",
    "    return receipt"
   ]
  },
  {
   "cell_type": "code",
   "execution_count": 7,
   "metadata": {},
   "outputs": [],
   "source": [
    "def getJobListings(owner, parent_name, street_address, initial_value, token_uri):\n",
    "    job_filter = joblistings.functions.registerJob\n",
    "    return job_filter.get_all_entries()"
   ]
  },
  {
   "cell_type": "markdown",
   "metadata": {},
   "source": [
    "### Suppose we we want to create a job:"
   ]
  },
  {
   "cell_type": "code",
   "execution_count": 8,
   "metadata": {},
   "outputs": [
    {
     "name": "stdin",
     "output_type": "stream",
     "text": [
      "Wallet Address:  \n",
      "Parents are?:  \n",
      "Street Address:  \n",
      "Fee offered:  \n"
     ]
    },
    {
     "ename": "ValueError",
     "evalue": "invalid literal for int() with base 10: ''",
     "output_type": "error",
     "traceback": [
      "\u001b[1;31m---------------------------------------------------------------------------\u001b[0m",
      "\u001b[1;31mValueError\u001b[0m                                Traceback (most recent call last)",
      "\u001b[1;32m<ipython-input-8-28f6c0f3887a>\u001b[0m in \u001b[0;36m<module>\u001b[1;34m\u001b[0m\n\u001b[1;32m----> 1\u001b[1;33m \u001b[0mtoken_id\u001b[0m \u001b[1;33m=\u001b[0m \u001b[0mcreateJobReport\u001b[0m\u001b[1;33m(\u001b[0m\u001b[1;33m)\u001b[0m\u001b[1;33m\u001b[0m\u001b[1;33m\u001b[0m\u001b[0m\n\u001b[0m\u001b[0;32m      2\u001b[0m \u001b[1;33m\u001b[0m\u001b[0m\n\u001b[0;32m      3\u001b[0m \u001b[0mreceipt\u001b[0m \u001b[1;33m=\u001b[0m \u001b[0mregisterJob\u001b[0m\u001b[1;33m(\u001b[0m\u001b[0mtoken_id\u001b[0m\u001b[1;33m)\u001b[0m\u001b[1;33m\u001b[0m\u001b[1;33m\u001b[0m\u001b[0m\n",
      "\u001b[1;32m<ipython-input-5-4bf73fb8f881>\u001b[0m in \u001b[0;36mcreateJobReport\u001b[1;34m()\u001b[0m\n\u001b[0;32m      3\u001b[0m     \u001b[0mparent_name\u001b[0m \u001b[1;33m=\u001b[0m \u001b[0minput\u001b[0m\u001b[1;33m(\u001b[0m\u001b[1;34m\"Parents are?: \"\u001b[0m\u001b[1;33m)\u001b[0m\u001b[1;33m\u001b[0m\u001b[1;33m\u001b[0m\u001b[0m\n\u001b[0;32m      4\u001b[0m     \u001b[0mstreet_address\u001b[0m \u001b[1;33m=\u001b[0m \u001b[0minput\u001b[0m\u001b[1;33m(\u001b[0m\u001b[1;34m\"Street Address: \"\u001b[0m\u001b[1;33m)\u001b[0m\u001b[1;33m\u001b[0m\u001b[1;33m\u001b[0m\u001b[0m\n\u001b[1;32m----> 5\u001b[1;33m     \u001b[0minitial_value\u001b[0m \u001b[1;33m=\u001b[0m \u001b[0mint\u001b[0m\u001b[1;33m(\u001b[0m\u001b[0minput\u001b[0m\u001b[1;33m(\u001b[0m\u001b[1;34m\"Fee offered: \"\u001b[0m\u001b[1;33m)\u001b[0m\u001b[1;33m)\u001b[0m\u001b[1;33m\u001b[0m\u001b[1;33m\u001b[0m\u001b[0m\n\u001b[0m\u001b[0;32m      6\u001b[0m     \u001b[0mtoken_uri\u001b[0m \u001b[1;33m=\u001b[0m \u001b[0minput\u001b[0m\u001b[1;33m(\u001b[0m\u001b[1;34m\"Job Description: \"\u001b[0m\u001b[1;33m)\u001b[0m\u001b[1;33m\u001b[0m\u001b[1;33m\u001b[0m\u001b[0m\n\u001b[0;32m      7\u001b[0m \u001b[1;33m\u001b[0m\u001b[0m\n",
      "\u001b[1;31mValueError\u001b[0m: invalid literal for int() with base 10: ''"
     ]
    }
   ],
   "source": [
    "token_id = createJobReport()\n",
    "\n",
    "receipt = registerJob(token_id)"
   ]
  },
  {
   "cell_type": "code",
   "execution_count": 12,
   "metadata": {},
   "outputs": [
    {
     "ename": "ValueError",
     "evalue": "Please ensure that this contract instance has an address.",
     "output_type": "error",
     "traceback": [
      "\u001b[1;31m---------------------------------------------------------------------------\u001b[0m",
      "\u001b[1;31mValueError\u001b[0m                                Traceback (most recent call last)",
      "\u001b[1;32m<ipython-input-12-8850efb2ac8a>\u001b[0m in \u001b[0;36m<module>\u001b[1;34m\u001b[0m\n\u001b[1;32m----> 1\u001b[1;33m \u001b[0mregisterJob\u001b[0m\u001b[1;33m(\u001b[0m\u001b[1;34m\"0xdDdB31bFdB863a189356028a62E6985019Dea124\"\u001b[0m\u001b[1;33m,\u001b[0m \u001b[1;34m\"alex\"\u001b[0m\u001b[1;33m,\u001b[0m \u001b[1;34m\"123 gg\"\u001b[0m\u001b[1;33m,\u001b[0m \u001b[1;36m100\u001b[0m\u001b[1;33m,\u001b[0m \u001b[1;34m\"baby\"\u001b[0m\u001b[1;33m)\u001b[0m\u001b[1;33m\u001b[0m\u001b[1;33m\u001b[0m\u001b[0m\n\u001b[0m",
      "\u001b[1;32m<ipython-input-6-4359cc1bdc20>\u001b[0m in \u001b[0;36mregisterJob\u001b[1;34m(owner, parent_name, street_address, initial_value, token_uri)\u001b[0m\n\u001b[0;32m      1\u001b[0m \u001b[1;32mdef\u001b[0m \u001b[0mregisterJob\u001b[0m\u001b[1;33m(\u001b[0m\u001b[0mowner\u001b[0m\u001b[1;33m,\u001b[0m \u001b[0mparent_name\u001b[0m\u001b[1;33m,\u001b[0m \u001b[0mstreet_address\u001b[0m\u001b[1;33m,\u001b[0m \u001b[0minitial_value\u001b[0m\u001b[1;33m,\u001b[0m \u001b[0mtoken_uri\u001b[0m\u001b[1;33m)\u001b[0m\u001b[1;33m:\u001b[0m\u001b[1;33m\u001b[0m\u001b[1;33m\u001b[0m\u001b[0m\n\u001b[1;32m----> 2\u001b[1;33m     tx_hash = joblistings.functions.registerJob(owner, parent_name, street_address, initial_value, token_uri).transact(\n\u001b[0m\u001b[0;32m      3\u001b[0m     \u001b[1;33m{\u001b[0m\u001b[1;34m\"from\"\u001b[0m\u001b[1;33m:\u001b[0m \u001b[0mw3\u001b[0m\u001b[1;33m.\u001b[0m\u001b[0meth\u001b[0m\u001b[1;33m.\u001b[0m\u001b[0maccounts\u001b[0m\u001b[1;33m[\u001b[0m\u001b[1;36m0\u001b[0m\u001b[1;33m]\u001b[0m\u001b[1;33m}\u001b[0m\u001b[1;33m\u001b[0m\u001b[1;33m\u001b[0m\u001b[0m\n\u001b[0;32m      4\u001b[0m     )\n\u001b[0;32m      5\u001b[0m     \u001b[0mreceipt\u001b[0m \u001b[1;33m=\u001b[0m \u001b[0mw3\u001b[0m\u001b[1;33m.\u001b[0m\u001b[0meth\u001b[0m\u001b[1;33m.\u001b[0m\u001b[0mwaitForTransactionReceipt\u001b[0m\u001b[1;33m(\u001b[0m\u001b[0mtx_hash\u001b[0m\u001b[1;33m)\u001b[0m\u001b[1;33m\u001b[0m\u001b[1;33m\u001b[0m\u001b[0m\n",
      "\u001b[1;32m~\\anaconda3\\lib\\site-packages\\web3\\contract.py\u001b[0m in \u001b[0;36mtransact\u001b[1;34m(self, transaction)\u001b[0m\n\u001b[0;32m    993\u001b[0m                 )\n\u001b[0;32m    994\u001b[0m             \u001b[1;32melse\u001b[0m\u001b[1;33m:\u001b[0m\u001b[1;33m\u001b[0m\u001b[1;33m\u001b[0m\u001b[0m\n\u001b[1;32m--> 995\u001b[1;33m                 raise ValueError(\n\u001b[0m\u001b[0;32m    996\u001b[0m                     \u001b[1;34m\"Please ensure that this contract instance has an address.\"\u001b[0m\u001b[1;33m\u001b[0m\u001b[1;33m\u001b[0m\u001b[0m\n\u001b[0;32m    997\u001b[0m                 )\n",
      "\u001b[1;31mValueError\u001b[0m: Please ensure that this contract instance has an address."
     ]
    }
   ],
   "source": [
    "registerJob(\"0xdDdB31bFdB863a189356028a62E6985019Dea124\", \"alex\", \"123 gg\", 100, \"baby\")"
   ]
  },
  {
   "cell_type": "code",
   "execution_count": null,
   "metadata": {},
   "outputs": [],
   "source": [
    "token_id"
   ]
  },
  {
   "cell_type": "code",
   "execution_count": null,
   "metadata": {},
   "outputs": [],
   "source": [
    "pprint(receipt)"
   ]
  },
  {
   "cell_type": "code",
   "execution_count": null,
   "metadata": {},
   "outputs": [],
   "source": [
    "print(\"Report IPFS Hash:\", report_uri)"
   ]
  },
  {
   "cell_type": "markdown",
   "metadata": {},
   "source": [
    "### Suppose we we want to pull information on previously reported jobs:"
   ]
  },
  {
   "cell_type": "code",
   "execution_count": null,
   "metadata": {},
   "outputs": [],
   "source": [
    "token_id = int(sys.argv[2])"
   ]
  },
  {
   "cell_type": "code",
   "execution_count": null,
   "metadata": {},
   "outputs": [],
   "source": [
    "jobs = runningjobs.functions.cars(token_id).call()"
   ]
  },
  {
   "cell_type": "code",
   "execution_count": null,
   "metadata": {},
   "outputs": [],
   "source": [
    "reports = getJobListings('owner', 'parent_name', 'street_address', 'initial_value', 'token_uri')"
   ]
  },
  {
   "cell_type": "code",
   "execution_count": null,
   "metadata": {},
   "outputs": [],
   "source": [
    "pprint(reports)"
   ]
  },
  {
   "cell_type": "code",
   "execution_count": null,
   "metadata": {},
   "outputs": [],
   "source": [
    "print(\"Job Posting\", jobs[0], \"has been completed at\", jobs[1], \"time.\")"
   ]
  },
  {
   "cell_type": "markdown",
   "metadata": {},
   "source": [
    "### How do we make this accessible for non-programmers?\n",
    "\n",
    "Suppose we wanted to allow others (who might not be familiar with Python) to conveniently run this from the command line (similar to how we used geth without knowing how to program in Go). We can do so by saving the file as a Python file (ending in .py, accident.py is already created) and creating a main() function and calling it so that whenever the entire file gets called, main() gets executed:"
   ]
  },
  {
   "cell_type": "code",
   "execution_count": null,
   "metadata": {},
   "outputs": [],
   "source": [
    "def main():\n",
    "    if sys.argv[1] == \"report\":\n",
    "        token_id, report_uri = createJobReport()\n",
    "\n",
    "        receipt = reportJob(token_id, report_uri)\n",
    "\n",
    "        pprint(receipt)\n",
    "        print(\"Report IPFS Hash:\", report_uri)\n",
    "\n",
    "    if sys.argv[1] == \"get\":\n",
    "        token_id = int(sys.argv[2])\n",
    "\n",
    "        jobs = runningjobs.functions.jobs(token_id).call()\n",
    "        reports = getJobListings(token_id)\n",
    "\n",
    "        pprint(reports)\n",
    "        print(\"This neighbor\", jobs[0], \"has done\", jobs[1], \"jobs.\")"
   ]
  },
  {
   "cell_type": "code",
   "execution_count": null,
   "metadata": {},
   "outputs": [],
   "source": [
    "main()"
   ]
  },
  {
   "cell_type": "markdown",
   "metadata": {},
   "source": [
    "### A brief intro to sys.argv:\n",
    "\n",
    "sys.argv is the list of arguments (or flags) passed from the command line by the user. We used a similar functionality when interacting with the puppeth tool using double dash (e.g.  \"./geth account new --datadir node1\"\n",
    "```\n",
    "sys.argv[0] is always the name of the script\n",
    "\n",
    "sys.argv[1] is the first argument, and so on\n",
    "```\n",
    " Below is an example:"
   ]
  },
  {
   "cell_type": "code",
   "execution_count": null,
   "metadata": {},
   "outputs": [],
   "source": [
    "#        sys.argv[0]        sys.argv[1]    sys.argv[2]\n",
    "# python accident.py        report\n",
    "# python accident.py        get            1"
   ]
  },
  {
   "cell_type": "markdown",
   "metadata": {},
   "source": [
    "That is, if we want to create a report we run this from the command line (after nagivating into the folder why accidents.py is saved):\n",
    "\n",
    "python accident.py report\n",
    "\n",
    "If we want to pull information on previously reported accidents, we run:\n",
    "\n",
    "python accident.py get 1"
   ]
  },
  {
   "cell_type": "code",
   "execution_count": null,
   "metadata": {},
   "outputs": [],
   "source": []
  }
 ],
 "metadata": {
  "kernelspec": {
   "display_name": "Python 3",
   "language": "python",
   "name": "python3"
  },
  "language_info": {
   "codemirror_mode": {
    "name": "ipython",
    "version": 3
   },
   "file_extension": ".py",
   "mimetype": "text/x-python",
   "name": "python",
   "nbconvert_exporter": "python",
   "pygments_lexer": "ipython3",
   "version": "3.8.5"
  }
 },
 "nbformat": 4,
 "nbformat_minor": 4
}
